{
 "cells": [
  {
   "cell_type": "markdown",
   "metadata": {},
   "source": [
    "# User-Defined Functions & Scoping"
   ]
  },
  {
   "cell_type": "markdown",
   "metadata": {},
   "source": [
    "## Tasks Today:\n",
    "\n",
    "\n",
    "1) Functions <br>\n",
    " &nbsp;&nbsp;&nbsp;&nbsp; a) User-Defined vs. Built-In Functions <br>\n",
    " &nbsp;&nbsp;&nbsp;&nbsp; b) Accepting Parameters <br>\n",
    " &nbsp;&nbsp;&nbsp;&nbsp; c) Default Parameters <br>\n",
    " &nbsp;&nbsp;&nbsp;&nbsp; d) Making an Argument Optional <br>\n",
    " &nbsp;&nbsp;&nbsp;&nbsp; e) Keyword Arguments <br>\n",
    " &nbsp;&nbsp;&nbsp;&nbsp; f) Returning Values <br>\n",
    " &nbsp;&nbsp;&nbsp;&nbsp; g) *args <br>\n",
    " &nbsp;&nbsp;&nbsp;&nbsp; h) Docstring <br>\n",
    " &nbsp;&nbsp;&nbsp;&nbsp; i) Using a User Function in a Loop <br>\n",
    "2) Scope\n",
    "3) Creating more User-Defined functions \n",
    "4) Modules <br>\n",
    " &nbsp;&nbsp;&nbsp;&nbsp; a) Importing Entire Modules <br>\n",
    " &nbsp;&nbsp;&nbsp;&nbsp; b) Importing Methods Only <br>\n",
    " &nbsp;&nbsp;&nbsp;&nbsp; c) Using the 'as' Keyword <br>\n",
    " &nbsp;&nbsp;&nbsp;&nbsp; d) Creating a Module <br>"
   ]
  },
  {
   "cell_type": "markdown",
   "metadata": {},
   "source": [
    "\n",
    "## Functions"
   ]
  },
  {
   "cell_type": "markdown",
   "metadata": {},
   "source": [
    "##### User-Defined vs. Built-In Functions"
   ]
  },
  {
   "cell_type": "code",
   "execution_count": 8,
   "metadata": {},
   "outputs": [
    {
     "name": "stdout",
     "output_type": "stream",
     "text": [
      "Hello\n",
      "<function say_hello at 0x000001A3EEA62B00>\n",
      "Hello\n"
     ]
    }
   ],
   "source": [
    "# Built_in funtcions\n",
    "\n",
    "#syntax function_mame()\n",
    "\n",
    "#print()\n",
    "#max()\n",
    "#min()\n",
    "#len()\n",
    "#sum()\n",
    "#link of built_in functions in chat\n",
    "\n",
    "# User defined functions\n",
    "\n",
    "def say_hello():\n",
    "    print('Hello')\n",
    "\n",
    "#calling upon our function\n",
    "say_hello() # when calling upon a function you always need those parenthesis\n",
    "\n",
    "print(say_hello)\n",
    "\n",
    "# can also call up on functions inside of functions\n",
    "\n",
    "def say_hello_again():\n",
    "    hello = say_hello()\n",
    "    return hello #print(hello) prints nothing.\n",
    "\n",
    "say_hello_again()"
   ]
  },
  {
   "cell_type": "markdown",
   "metadata": {},
   "source": [
    "##### Accepting Parameters"
   ]
  },
  {
   "cell_type": "code",
   "execution_count": 12,
   "metadata": {
    "scrolled": true
   },
   "outputs": [
    {
     "name": "stdout",
     "output_type": "stream",
     "text": [
      "Rangers 127 are really cool\n",
      "the Dog is very fluffy and it's fast\n"
     ]
    }
   ],
   "source": [
    "# elements passed into a function\n",
    "# variables to hold the place of items our function will act upon\n",
    "# order matters\n",
    "# a parameter can be of any object type (data type)\n",
    "                    #parameter\n",
    "def return_something(something): #variable holdiing the place of actual data for the future. Think suitcase\n",
    "    return something\n",
    "\n",
    "print(return_something('Rangers 127 are really cool')) # this is the aregument. What I'm actually bringing on the plane(inside the suitcase)\n",
    "\n",
    "\n",
    "def make_sentence(noun, adjective, verb):\n",
    "                                               #order of using parameters inside function does not matter. it's based on variable name. {verb}, {noun}, whatnot\n",
    "    return f\"the {noun} is very {adjective} and it's {verb}\" #order here does not matter. Can be noun x2 or 3 or etc.\n",
    "\n",
    "print(make_sentence('Dog', 'fluffy', 'fast')) # order of replacing parameters with arguments matters"
   ]
  },
  {
   "cell_type": "markdown",
   "metadata": {},
   "source": [
    "##### Default Parameters"
   ]
  },
  {
   "cell_type": "code",
   "execution_count": 15,
   "metadata": {},
   "outputs": [
    {
     "name": "stdout",
     "output_type": "stream",
     "text": [
      "The name is Bond....Bond James\n"
     ]
    }
   ],
   "source": [
    "# default parameters must always come after non-default parameters at all times forever and ever...or else\n",
    "\n",
    "# what denotes a defualt or an optional parameter is the =\n",
    "\n",
    "def agent_name(first_name, last_name = 'Bond'):\n",
    "\n",
    "    return f\"The name is {first_name}....{first_name} {last_name}\"\n",
    "\n",
    "print(agent_name('James', 'Swiggum'))"
   ]
  },
  {
   "cell_type": "code",
   "execution_count": 21,
   "metadata": {},
   "outputs": [
    {
     "name": "stdout",
     "output_type": "stream",
     "text": [
      "The name is Devante....Devante Rose\n",
      "Brendan your birthday is 25 September 1996\n"
     ]
    }
   ],
   "source": [
    "# default parameters must always come after non-default parameters at all times forever and ever...or else\n",
    "\n",
    "print(agent_name(last_name = 'Rose', first_name = 'Devante'))\n",
    "\n",
    "def birthday_month(name, day, month, year = 2023):\n",
    "\n",
    "    return f\"{name} your birthday is {day} {month} {year}\"\n",
    "\n",
    "print(birthday_month('Brendan', 25, 'September', 1996))"
   ]
  },
  {
   "cell_type": "markdown",
   "metadata": {},
   "source": [
    "##### Making an Argument Optional"
   ]
  },
  {
   "cell_type": "code",
   "execution_count": 23,
   "metadata": {},
   "outputs": [
    {
     "name": "stdout",
     "output_type": "stream",
     "text": [
      "My horse's name is Mr. horsey Ed\n"
     ]
    }
   ],
   "source": [
    "     #positional parameter  #optional    #default\n",
    "def print_horse_name(first, middle, last = \"Ed\"):\n",
    "\n",
    "    return f\"My horse's name is {first} {middle} {last}\"\n",
    "\n",
    "print(print_horse_name(\"Mr.\", \"horsey\"))"
   ]
  },
  {
   "cell_type": "markdown",
   "metadata": {},
   "source": [
    "##### Keyword Arguments"
   ]
  },
  {
   "cell_type": "code",
   "execution_count": 25,
   "metadata": {},
   "outputs": [
    {
     "name": "stdout",
     "output_type": "stream",
     "text": [
      "Nico's super power is luck and their secret identity is being exposed and is Nico Cage\n"
     ]
    }
   ],
   "source": [
    "#keyword arguments must follow positional arugments\n",
    "\n",
    "def print_hero(name, secret_identity, power='flying'):\n",
    "\n",
    "        return f\"{name}'s super power is {power} and their secret identity is being exposed and is {secret_identity}\"\n",
    "\n",
    "print(print_hero(power='luck', name = 'Nico', secret_identity ='Nico Cage'))"
   ]
  },
  {
   "cell_type": "markdown",
   "metadata": {},
   "source": [
    "# Creating a start, stop, step function"
   ]
  },
  {
   "cell_type": "code",
   "execution_count": 33,
   "metadata": {
    "scrolled": true
   },
   "outputs": [
    {
     "name": "stdout",
     "output_type": "stream",
     "text": [
      "0\n",
      "2\n",
      "4\n",
      "6\n",
      "8\n",
      "[0, 2, 4, 6, 8]\n"
     ]
    }
   ],
   "source": [
    "# most likely use built-in range function instead of this\n",
    "\n",
    "def my_range(stop, start=0, step=1):\n",
    "\n",
    "    my_list = []\n",
    "    for i in range(start, stop, step):\n",
    "        print(i)\n",
    "        my_list.append(i)\n",
    "\n",
    "    return my_list\n",
    "\n",
    "print(my_range(10, step=2))"
   ]
  },
  {
   "cell_type": "markdown",
   "metadata": {},
   "source": [
    "##### Returning Values"
   ]
  },
  {
   "cell_type": "code",
   "execution_count": 48,
   "metadata": {},
   "outputs": [],
   "source": [
    "poke_list =['Charmander', 'Ditto', 'Eevee', 'Pikachu', 'Squirtle', 'Bulbasaur']\n",
    "\n",
    "def find_bulbasaur(arr):\n",
    "\n",
    "    for value in arr:\n",
    "        if value == 'Bulbasaur':\n",
    "            return \"Bulba Bulba\"\n",
    "    return \"No Bulbasaur here\"\n",
    "\n",
    "    return \"No Bulbasaur here\""
   ]
  },
  {
   "cell_type": "code",
   "execution_count": 42,
   "metadata": {
    "scrolled": true
   },
   "outputs": [
    {
     "data": {
      "text/plain": [
       "'Bulba Bulba'"
      ]
     },
     "execution_count": 42,
     "metadata": {},
     "output_type": "execute_result"
    }
   ],
   "source": []
  },
  {
   "cell_type": "code",
   "execution_count": 49,
   "metadata": {},
   "outputs": [
    {
     "name": "stdout",
     "output_type": "stream",
     "text": [
      "We found Bulbasaur!!\n"
     ]
    }
   ],
   "source": [
    "def is_bulbasaur(string):\n",
    "    if string == 'Bulba Bulba':\n",
    "        return \"We found Bulbasaur!!\"\n",
    "\n",
    "    return \"Oh no looks likes you didnt catch him\"\n",
    "\n",
    "print(is_bulbasaur(find_bulbasaur(poke_list)))"
   ]
  },
  {
   "cell_type": "markdown",
   "metadata": {},
   "source": [
    "##### *args / **kwargs (keyword arguments)"
   ]
  },
  {
   "cell_type": "code",
   "execution_count": 54,
   "metadata": {},
   "outputs": [
    {
     "name": "stdout",
     "output_type": "stream",
     "text": [
      "These are our positional arguments 1 2\n",
      "These are our *args: (5, 7, 8, 10, 23)\n",
      "These are our *kwargs: {'person1': 'Jason', 'person2': 'Priscilla', 'person3': 'Leza'}\n"
     ]
    }
   ],
   "source": [
    "#*args, **kwargs\n",
    "# *args stands for arguments and will allow the function to take in any number of arguments\n",
    "# **kwargs stands for key word arguments and will allow the function to take in any number of keyword arguments\n",
    "# if other parameters are present, args and kwarfs must go last\n",
    "\n",
    "def print_args_kwargs(num1, num2, *nums, **people): # asterik denotes *args and ##kwards. Can be names anyting\n",
    "\n",
    "    print(f\"These are our positional arguments {num1} {num2}\")\n",
    "    print(f\"These are our *args: {nums}\")\n",
    "    print(f\"These are our *kwargs: {people}\")\n",
    "\n",
    "print_args_kwargs(1,2, 5,7,8,10, 23, person1 = 'Jason', person2 = 'Priscilla', person3 = \"Leza\")\n",
    "\n"
   ]
  },
  {
   "cell_type": "code",
   "execution_count": 57,
   "metadata": {},
   "outputs": [
    {
     "name": "stdout",
     "output_type": "stream",
     "text": [
      "{1: 'Milk', 2: 'Cheese', 3: 'Lactade'}\n"
     ]
    }
   ],
   "source": [
    "shopping_cart = {\n",
    "    1 : 'Milk',\n",
    "    2 : 'Cheese',\n",
    "    3 : 'Lactade'\n",
    "}\n",
    "print(shopping_cart)"
   ]
  },
  {
   "cell_type": "code",
   "execution_count": 67,
   "metadata": {},
   "outputs": [
    {
     "name": "stdout",
     "output_type": "stream",
     "text": [
      "My favorite summertime activities are :\n",
      "hiking\n",
      "swimming\n",
      "kayaking\n",
      "bbq's\n",
      "My favoritie snacks are: \n",
      "picnic\n",
      "finger sandwiches\n",
      "charcuterie board\n",
      "chips\n",
      "lemonade\n",
      "campside\n",
      "smores\n",
      "hot dogs\n",
      "cold beer\n",
      "burgers\n",
      "bug spray\n"
     ]
    }
   ],
   "source": [
    "\n",
    "def summer_time(*activities, **snacks):\n",
    "    print(\"My favorite summertime activities are :\")\n",
    "    for activity in activities:\n",
    "        print(activity)\n",
    "    print(\"My favoritie snacks are: \")\n",
    "    for category, snack in snacks.items():\n",
    "        print(category)\n",
    "        for item in snack:\n",
    "            print(item)\n",
    "\n",
    "summer_time('hiking', 'swimming', 'kayaking', 'bbq\\'s', picnic = \n",
    "['finger sandwiches', 'charcuterie board', 'chips', 'lemonade'], campside = [\"smores\", \"hot dogs\", \"cold beer\", \"burgers\", \"bug spray\"])"
   ]
  },
  {
   "cell_type": "code",
   "execution_count": 73,
   "metadata": {},
   "outputs": [
    {
     "name": "stdout",
     "output_type": "stream",
     "text": [
      "My favorite summertime activities are :\n",
      "\thiking\n",
      "\tswimming\n",
      "\tkayaking\n",
      "\tbbq's\n",
      "My favoritie snacks are: \n",
      "picnic\n",
      "\tfinger sandwiches\n",
      "\tcharcuterie board\n",
      "\tchips\n",
      "\tlemonade\n",
      "campside\n",
      "\tsmores\n",
      "\thot dogs\n",
      "\tcold beer\n",
      "\tburgers\n",
      "\tbug spray\n"
     ]
    }
   ],
   "source": [
    "\n",
    "def summer_time(*activities, **snacks):\n",
    "    print(\"My favorite summertime activities are :\")\n",
    "    for activity in activities:\n",
    "        print(f\"\\t{activity}\")\n",
    "    print(\"My favoritie snacks are: \")\n",
    "    for category, snack in snacks.items():\n",
    "        print(category)\n",
    "        for item in snack:\n",
    "            print(f\"\\t{item}\")\n",
    "\n",
    "summer_time('hiking', 'swimming', 'kayaking', 'bbq\\'s', picnic = \n",
    "['finger sandwiches', 'charcuterie board', 'chips', 'lemonade'], campside = [\"smores\", \"hot dogs\", \"cold beer\", \"burgers\", \"bug spray\"])"
   ]
  },
  {
   "cell_type": "markdown",
   "metadata": {},
   "source": [
    "##### Docstring"
   ]
  },
  {
   "cell_type": "code",
   "execution_count": 75,
   "metadata": {},
   "outputs": [
    {
     "name": "stdout",
     "output_type": "stream",
     "text": [
      "Jeremy\n",
      "Devante\n",
      "Luis\n",
      "Nico\n",
      "Help on function print_names in module __main__:\n",
      "\n",
      "print_names(arr)\n",
      "    print_names(arr)\n",
      "    Function that takes in a list as an argument.\n",
      "    It will print the contents of the list separately.\n",
      "    It is expected that the list contains all strings to be passed in.\n",
      "\n"
     ]
    }
   ],
   "source": [
    "# docstrings are a really nice way to leave notes about funciontality in your code\n",
    "# provide instructions\n",
    "\n",
    "def print_names(arr):\n",
    "    \"\"\"\n",
    "    print_names(arr)\n",
    "    Function that takes in a list as an argument.\n",
    "    It will print the contents of the list separately.\n",
    "    It is expected that the list contains all strings to be passed in.\n",
    "\n",
    "    \"\"\"\n",
    "# example comment to include: for loop to print out each name inside my array/list\n",
    "    for name in arr: #comments for code also\n",
    "        print(name)\n",
    "\n",
    "print_names(['Jeremy', 'Devante', 'Luis', 'Nico'])\n",
    "\n",
    "help(print_names)"
   ]
  },
  {
   "cell_type": "markdown",
   "metadata": {},
   "source": [
    "##### Using a User Function in a Loop"
   ]
  },
  {
   "cell_type": "code",
   "execution_count": 77,
   "metadata": {},
   "outputs": [
    {
     "name": "stdin",
     "output_type": "stream",
     "text": [
      "What is going on? not much\n"
     ]
    },
    {
     "name": "stdout",
     "output_type": "stream",
     "text": [
      "I say heeeey not much\n"
     ]
    },
    {
     "name": "stdin",
     "output_type": "stream",
     "text": [
      "Are you ready to quit?  no\n",
      "What is going on? yes\n"
     ]
    },
    {
     "name": "stdout",
     "output_type": "stream",
     "text": [
      "I say heeeey yes\n"
     ]
    },
    {
     "name": "stdin",
     "output_type": "stream",
     "text": [
      "Are you ready to quit?  yes\n"
     ]
    }
   ],
   "source": [
    "def print_input(answer):\n",
    "    print(f\"I say heeeey {answer}\")\n",
    "\n",
    "while True:\n",
    "    ask = input(\"What is going on?\")\n",
    "\n",
    "    print_input(ask)\n",
    "\n",
    "    response = input(\"Are you ready to quit? \").lower()\n",
    "\n",
    "    if response in {'yes', 'y', 'quit', 'please', 'resign'}:\n",
    "        break"
   ]
  },
  {
   "cell_type": "code",
   "execution_count": 81,
   "metadata": {
    "scrolled": true
   },
   "outputs": [
    {
     "name": "stdin",
     "output_type": "stream",
     "text": [
      "What is going on?  he he\n"
     ]
    },
    {
     "name": "stdout",
     "output_type": "stream",
     "text": [
      "I say heeeey ('he', 'he')\n"
     ]
    },
    {
     "name": "stdin",
     "output_type": "stream",
     "text": [
      "Are you ready to quit?  hey hey h'\n",
      "What is going on?  ehye\n"
     ]
    },
    {
     "name": "stdout",
     "output_type": "stream",
     "text": [
      "I say heeeey ('ehye',)\n"
     ]
    },
    {
     "name": "stdin",
     "output_type": "stream",
     "text": [
      "Are you ready to quit?  yes\n"
     ]
    }
   ],
   "source": [
    "#pass each on as an argument -maybe\n",
    "\n",
    "def print_input(*answer):\n",
    "    print(f\"I say heeeey {answer}\")\n",
    "\n",
    "while True:\n",
    "    ask = input(\"What is going on? \").split()\n",
    "\n",
    "    # my_dic = {}\n",
    "\n",
    "    # for i in range(len(ask)):\n",
    "    #     dynamic_val = ask[i]\n",
    "\n",
    "    #     my_dict[dynamic_val] = ask[i]\n",
    "        \n",
    "    # print(my_dict.keys())\n",
    "\n",
    "    print_input(*ask)\n",
    "\n",
    "    response = input(\"Are you ready to quit? \").lower()\n",
    "\n",
    "    if response in {'yes', 'y', 'quit', 'please', 'resign'}:\n",
    "        break"
   ]
  },
  {
   "cell_type": "markdown",
   "metadata": {},
   "source": [
    "## Function Exercises <br>\n",
    "### Exercise 1\n",
    "<p>Write a function that loops through a list of first_names and a list of last_names, combines the two and return a list of full_names</p>"
   ]
  },
  {
   "cell_type": "code",
   "execution_count": null,
   "metadata": {},
   "outputs": [],
   "source": []
  },
  {
   "cell_type": "code",
   "execution_count": 135,
   "metadata": {},
   "outputs": [
    {
     "name": "stdout",
     "output_type": "stream",
     "text": [
      "['John Smith', 'Evan Smith', 'Jordan Williams', 'Max Bell']\n"
     ]
    }
   ],
   "source": [
    "first_name = ['John', 'Evan', 'Jordan', 'Max']\n",
    "last_name = ['Smith', 'Smith', 'Williams', 'Bell']\n",
    "\n",
    "# Output: ['John Smith', 'Evan Smith', 'Jordan Williams', 'Max Bell']\n",
    "\n",
    "def both_names(first_name, last_name):\n",
    "    new_names_list = []\n",
    "    \n",
    "    for i in range(len(first_name)): # enumerate grabs both index and value\n",
    "        new_names_list.append(first_name[i] + \" \" + last_name[i])\n",
    "    return new_names_list\n",
    "    \n",
    "\n",
    "print(both_names(first_name, last_name)) #check recording...still not working\n"
   ]
  },
  {
   "cell_type": "markdown",
   "metadata": {},
   "source": [
    "### Exercise 2\n",
    "Create a function that alters all values in the given list by subtracting 5 and then doubling them."
   ]
  },
  {
   "cell_type": "code",
   "execution_count": 136,
   "metadata": {},
   "outputs": [
    {
     "name": "stdout",
     "output_type": "stream",
     "text": [
      "[0, 10, 20, 30, -4]\n"
     ]
    }
   ],
   "source": [
    "input_list = [5,10,15,20,3]\n",
    "# output = [0,10,20,30,-4]\n",
    "\n",
    "\n",
    "def alter(input_list):\n",
    "    output = []\n",
    "    for num in input_list:\n",
    "        output.append((num-5)*2)\n",
    "    return output\n",
    "print(alter(input_list))"
   ]
  },
  {
   "cell_type": "code",
   "execution_count": null,
   "metadata": {},
   "outputs": [],
   "source": [
    "input_list = [5,10,15,20,3]\n",
    "# output = [0,10,20,30,-4]\n",
    "\n",
    "def minus_5(list):\n",
    "    for i in range(len(list)):\n",
    "        list[i] = "
   ]
  },
  {
   "cell_type": "markdown",
   "metadata": {},
   "source": [
    "### Exercise 3\n",
    "Create a function that takes in a list of strings and filters out the strings that DO NOT contain vowels. "
   ]
  },
  {
   "cell_type": "code",
   "execution_count": 144,
   "metadata": {},
   "outputs": [
    {
     "name": "stdout",
     "output_type": "stream",
     "text": [
      "Sheldon\n",
      "Pnny\n",
      "Leonard\n",
      "Hwrd\n",
      "Rj\n",
      "Amy\n",
      "Strt\n"
     ]
    },
    {
     "data": {
      "text/plain": [
       "['Leonard', 'Sheldon', 'Amy']"
      ]
     },
     "execution_count": 144,
     "metadata": {},
     "output_type": "execute_result"
    }
   ],
   "source": [
    "string_list = ['Sheldon','Pnny','Leonard','Hwrd','Rj','Amy','Strt']\n",
    "# output = ['Sheldon','Leonard','Amy']\n",
    "\n",
    "def no_vowels(arr):\n",
    "\n",
    "    result = set() # created a set for results to take care of duplicates\n",
    "    vowels = set(['a', 'e', 'i', 'o', 'u']) # created set of vowels to search/traverse through\n",
    "\n",
    "\n",
    "    for name in arr: # looping through the values (aka al the names)\n",
    "        print(name)\n",
    "        for letter in name: # looping through the letters/characters in the name\n",
    "            if letter.lower() in vowels:\n",
    "                result.add(name)\n",
    "                break\n",
    "    return list(result)\n",
    "        \n",
    "no_vowels(string_list)\n"
   ]
  },
  {
   "cell_type": "code",
   "execution_count": 161,
   "metadata": {},
   "outputs": [
    {
     "name": "stdout",
     "output_type": "stream",
     "text": [
      "['Pnny', 'Hwrd', 'Rj', 'Strt', 'Strt']\n"
     ]
    }
   ],
   "source": [
    "string_list = ['Sheldon','Pnny','Leonard','Hwrd','Rj','Amy','Strt', 'Strt']\n",
    "\n",
    "def contains_vowels(list): #not a double for loop but has same time complexity as one\n",
    "    removals = []\n",
    "    for string in list: # O(n^2)\n",
    "                                                                    # use of \\ to break up code lines\n",
    "        if 'a' not in string.lower() and 'e' not in string.lower() \\\n",
    "        and 'i' not in string.lower() and 'o' not in string.lower() \\\n",
    "        and 'u' not in string.lower():\n",
    "            removals.append(string)\n",
    "    print(removals)     \n",
    "    for string in removals:\n",
    "        if string in list: #accounting for duplicates\n",
    "            list.remove(string)\n",
    "\n",
    "contains_vowels(string_list)"
   ]
  },
  {
   "cell_type": "code",
   "execution_count": 169,
   "metadata": {},
   "outputs": [
    {
     "name": "stdout",
     "output_type": "stream",
     "text": [
      "['Sheldon', 'Leonard', 'Amy']\n"
     ]
    }
   ],
   "source": [
    "string_list = ['Sheldon','Pnny','Leonard','Hwrd','Rj','Amy','Strt', 'Strt']\n",
    "\n",
    "def no_vowels():\n",
    "    string_list = ['Sheldon','Pnny','Leonard','Hwrd','Rj','Amy','Strt']\n",
    "    output = []\n",
    "    vowels=set({'a','A','e','E','i','I','o','O','u','U'})\n",
    "                                    # any is taking in True and False values. list comprehension\n",
    "    for name in string_list: #linear\n",
    "        if any([c for c in name if c in vowels]): #[True, False, False] ..we found 1 true and that's all that any() cares about\n",
    "            output.append(name)\n",
    "    return output\n",
    "\n",
    "print(no_vowels())"
   ]
  },
  {
   "cell_type": "markdown",
   "metadata": {},
   "source": [
    "### Exercise 4\n",
    "Create a function that accepts a list as a parameter and returns a dictionary containing the list items as it's keys, and the number of times they appear in the list as the values"
   ]
  },
  {
   "cell_type": "code",
   "execution_count": 180,
   "metadata": {},
   "outputs": [
    {
     "data": {
      "text/plain": [
       "{'Harry': 3, 'Hermione': 2, 'Ron': 4, 'Dobby': 1, 'Draco': 1, 'Luna': 1}"
      ]
     },
     "execution_count": 180,
     "metadata": {},
     "output_type": "execute_result"
    }
   ],
   "source": [
    "example_list = [\"Harry\", 'Hermione','Harry','Ron','Dobby','Draco','Luna','Harry','Hermione','Ron','Ron','Ron']\n",
    "\n",
    "# output = {\n",
    "#     \"Harry\":3,\n",
    "#     \"Hermione\":2,\n",
    "#     \"Ron\":4,\n",
    "#     \"Dobby\":1,\n",
    "#     \"Draco\":1,\n",
    "#     \"Luna\": 1\n",
    "# }\n",
    "\n",
    "# counter dictioary!!!! memorize/familiarize\n",
    "\n",
    "def potter_counter(arr):\n",
    "\n",
    "    potter_dict = {}\n",
    "\n",
    "    for name in arr:\n",
    "        if name in potter_dict:\n",
    "            potter_dict[name] += 1\n",
    "        else:\n",
    "            potter_dict[name] = 1\n",
    "            \n",
    "    return potter_dict\n",
    "    \n",
    "potter_counter(example_list)"
   ]
  },
  {
   "cell_type": "markdown",
   "metadata": {},
   "source": [
    "\n",
    "\n",
    "## Scope <br>\n",
    "<p>Scope refers to the ability to access variables, different types of scope include:<br>a) Global<br>b) Function (local)<br>c) Class (local)</p>"
   ]
  },
  {
   "cell_type": "code",
   "execution_count": 93,
   "metadata": {},
   "outputs": [
    {
     "name": "stdout",
     "output_type": "stream",
     "text": [
      "3\n",
      "3\n",
      "11\n",
      "13\n"
     ]
    }
   ],
   "source": [
    "# placement of variable declaration matters\n",
    "\n",
    "number = 3 # global variable (aka is accessible from anywhere)\n",
    "\n",
    "def return_num(num):\n",
    "\n",
    "    new_num = num + 1 # locally scoped variable  (aka only available \n",
    "                        #inside the function it was created in, or if it gets passed \n",
    "                        #inside another function via a function call)\n",
    "    print(number)\n",
    "    print(new_num)  # this works because it has access to local variable\n",
    "\n",
    "    global global_num\n",
    "    global_num = num + 3\n",
    "    \n",
    "\n",
    "print(number)\n",
    "return_num(10)\n",
    "#return_num()\n",
    "#print(new_num) \n",
    "\n",
    "print(global_num)\n"
   ]
  },
  {
   "cell_type": "markdown",
   "metadata": {},
   "source": [
    "## Modules"
   ]
  },
  {
   "cell_type": "markdown",
   "metadata": {},
   "source": [
    "##### Importing Entire Modules\n"
   ]
  },
  {
   "cell_type": "code",
   "execution_count": 97,
   "metadata": {},
   "outputs": [
    {
     "name": "stdout",
     "output_type": "stream",
     "text": [
      "3.141592653589793\n",
      "3\n",
      "2\n",
      "2\n"
     ]
    }
   ],
   "source": [
    "## Modules\n",
    "\n",
    "import math # madulae we have access to we have access to in python\n",
    "\n",
    "print(math.pi)\n",
    "\n",
    "num = 5\n",
    "num2 = 2\n",
    "\n",
    "num3 = math.ceil(5/2) # 5/2 = 2.5. .ceil rounds up. Think ceiling.\n",
    "\n",
    "print(num3)\n",
    "\n",
    "num4 = 5 // 2 #5/2 == 2.5 but if we round down it's 2\n",
    "print(num4)\n",
    "\n",
    "num5 = math.floor(5/2) # same thing as 5 // 2\n",
    "print(num5)"
   ]
  },
  {
   "cell_type": "markdown",
   "metadata": {},
   "source": [
    "##### Importing Methods Only"
   ]
  },
  {
   "cell_type": "code",
   "execution_count": 99,
   "metadata": {},
   "outputs": [
    {
     "name": "stdout",
     "output_type": "stream",
     "text": [
      "3.141592653589793\n",
      "4\n"
     ]
    }
   ],
   "source": [
    "# from xxx import yyy\n",
    "#from math import floor\n",
    "\n",
    "from math import pi, ceil #importing modules help us build stuff for buiding frameworks\n",
    "\n",
    "print(pi)\n",
    "\n",
    "print(ceil(3.89))"
   ]
  },
  {
   "cell_type": "markdown",
   "metadata": {},
   "source": [
    "##### Using the 'as' Keyword"
   ]
  },
  {
   "cell_type": "code",
   "execution_count": 100,
   "metadata": {},
   "outputs": [
    {
     "name": "stdout",
     "output_type": "stream",
     "text": [
      "2\n"
     ]
    }
   ],
   "source": [
    "# from xxx import yyy as z\n",
    "\n",
    "from math import floor as fl, ceil as cl # good to be more descriptive (aka alias)\n",
    "\n",
    "print(fl(2.5))"
   ]
  },
  {
   "cell_type": "markdown",
   "metadata": {},
   "source": [
    "##### Creating a Module"
   ]
  },
  {
   "cell_type": "code",
   "execution_count": 1,
   "metadata": {},
   "outputs": [
    {
     "ename": "ModuleNotFoundError",
     "evalue": "No module named 'module'",
     "output_type": "error",
     "traceback": [
      "\u001b[1;31m---------------------------------------------------------------------------\u001b[0m",
      "\u001b[1;31mModuleNotFoundError\u001b[0m                       Traceback (most recent call last)",
      "Cell \u001b[1;32mIn[1], line 2\u001b[0m\n\u001b[0;32m      1\u001b[0m \u001b[38;5;66;03m# saved module name changed. Needs to be renamed in order to use.\u001b[39;00m\n\u001b[1;32m----> 2\u001b[0m \u001b[38;5;28;01mfrom\u001b[39;00m \u001b[38;5;21;01mmodule\u001b[39;00m \u001b[38;5;28;01mimport\u001b[39;00m printName \u001b[38;5;28;01mas\u001b[39;00m pn\n\u001b[0;32m      4\u001b[0m pn(\u001b[38;5;124m'\u001b[39m\u001b[38;5;124mAlex\u001b[39m\u001b[38;5;124m'\u001b[39m)\n",
      "\u001b[1;31mModuleNotFoundError\u001b[0m: No module named 'module'"
     ]
    }
   ],
   "source": [
    "# saved module name changed. Needs to be renamed in order to use.\n",
    "from module import printName as pn\n",
    "\n",
    "pn('Alex')"
   ]
  },
  {
   "cell_type": "code",
   "execution_count": 108,
   "metadata": {},
   "outputs": [
    {
     "ename": "ModuleNotFoundError",
     "evalue": "No module named 'module'",
     "output_type": "error",
     "traceback": [
      "\u001b[1;31m---------------------------------------------------------------------------\u001b[0m",
      "\u001b[1;31mModuleNotFoundError\u001b[0m                       Traceback (most recent call last)",
      "Cell \u001b[1;32mIn[108], line 1\u001b[0m\n\u001b[1;32m----> 1\u001b[0m \u001b[38;5;28;01mimport\u001b[39;00m \u001b[38;5;21;01mmodule\u001b[39;00m\n\u001b[0;32m      3\u001b[0m module\u001b[38;5;241m.\u001b[39mprintName(\u001b[38;5;124m'\u001b[39m\u001b[38;5;124mJason\u001b[39m\u001b[38;5;124m'\u001b[39m)\n",
      "\u001b[1;31mModuleNotFoundError\u001b[0m: No module named 'module'"
     ]
    }
   ],
   "source": [
    "import module\n",
    "\n",
    "module.printName('Jason')"
   ]
  },
  {
   "cell_type": "code",
   "execution_count": null,
   "metadata": {},
   "outputs": [],
   "source": []
  },
  {
   "cell_type": "code",
   "execution_count": null,
   "metadata": {},
   "outputs": [],
   "source": []
  },
  {
   "cell_type": "markdown",
   "metadata": {},
   "source": [
    "# Homework Exercises"
   ]
  },
  {
   "cell_type": "markdown",
   "metadata": {},
   "source": [
    "###1) Create a Module in VS Code and Import It into jupyter notebook <br>\n",
    "<p><b>Module should have the following capabilities:</b><br><br>\n",
    "1a) Has a function to calculate the square footage of a house <br>\n",
    "    <b>Reminder of Formula: Length X Width == Area</b><br>\n",
    "        <hr>\n",
    "1b) Has a function to calculate the circumference of a circle 2 Pi r <br><br>\n",
    "<b>Program in Jupyter Notebook should take in user input and use imported functions to calculate a circle's circumference or a houses square footage</b>\n",
    "</p>"
   ]
  },
  {
   "cell_type": "code",
   "execution_count": 9,
   "metadata": {},
   "outputs": [
    {
     "ename": "ModuleNotFoundError",
     "evalue": "No module named 'newname'",
     "output_type": "error",
     "traceback": [
      "\u001b[1;31m---------------------------------------------------------------------------\u001b[0m",
      "\u001b[1;31mModuleNotFoundError\u001b[0m                       Traceback (most recent call last)",
      "Cell \u001b[1;32mIn[9], line 1\u001b[0m\n\u001b[1;32m----> 1\u001b[0m \u001b[38;5;28;01mfrom\u001b[39;00m \u001b[38;5;21;01mnewname\u001b[39;00m \u001b[38;5;28;01mimport\u001b[39;00m areaofhome\n\u001b[0;32m      3\u001b[0m \u001b[38;5;66;03m# user_input =\u001b[39;00m\n",
      "\u001b[1;31mModuleNotFoundError\u001b[0m: No module named 'newname'"
     ]
    }
   ],
   "source": [
    "from newname import areaofhome #renamed a few times..not sure why that doesn't want to import\n",
    "\n",
    "# user_input ="
   ]
  },
  {
   "cell_type": "markdown",
   "metadata": {},
   "source": [
    "### 2) Build a Shopping Cart Function <br>\n",
    "<p><b>You can use either lists or dictionaries. The program should have the following capabilities:</b><br><br>\n",
    "1) Takes in input <br>\n",
    "2) Stores user input into a dictionary or list <br>\n",
    "3) The User can add or delete items <br>\n",
    "4) The User can see current shopping list <br>\n",
    "5) The program Loops until user 'quits' <br>\n",
    "6) Upon quiting the program, print out all items in the user's list <br>\n",
    "</p>"
   ]
  },
  {
   "cell_type": "code",
   "execution_count": 8,
   "metadata": {},
   "outputs": [
    {
     "name": "stdout",
     "output_type": "stream",
     "text": [
      "Enter 'add' to add item to cart\n",
      "Enter 'remove' to remove item from cart\n",
      "Enter 'show' to show items in cart\n",
      "Enter 'quit' to quit\n"
     ]
    },
    {
     "name": "stdin",
     "output_type": "stream",
     "text": [
      " add\n",
      "Enter item name:  cherry\n"
     ]
    },
    {
     "name": "stdout",
     "output_type": "stream",
     "text": [
      "1. cherry\n",
      "Item added to cart\n",
      "Enter 'add' to add item to cart\n",
      "Enter 'remove' to remove item from cart\n",
      "Enter 'show' to show items in cart\n",
      "Enter 'quit' to quit\n"
     ]
    },
    {
     "name": "stdin",
     "output_type": "stream",
     "text": [
      " show\n"
     ]
    },
    {
     "name": "stdout",
     "output_type": "stream",
     "text": [
      "{1: 'cherry'}\n",
      "Enter 'add' to add item to cart\n",
      "Enter 'remove' to remove item from cart\n",
      "Enter 'show' to show items in cart\n",
      "Enter 'quit' to quit\n"
     ]
    },
    {
     "ename": "KeyboardInterrupt",
     "evalue": "Interrupted by user",
     "output_type": "error",
     "traceback": [
      "\u001b[1;31m---------------------------------------------------------------------------\u001b[0m",
      "\u001b[1;31mKeyboardInterrupt\u001b[0m                         Traceback (most recent call last)",
      "Cell \u001b[1;32mIn[8], line 11\u001b[0m\n\u001b[0;32m      8\u001b[0m \u001b[38;5;28mprint\u001b[39m(\u001b[38;5;124m\"\u001b[39m\u001b[38;5;124mEnter \u001b[39m\u001b[38;5;124m'\u001b[39m\u001b[38;5;124mshow\u001b[39m\u001b[38;5;124m'\u001b[39m\u001b[38;5;124m to show items in cart\u001b[39m\u001b[38;5;124m\"\u001b[39m)\n\u001b[0;32m      9\u001b[0m \u001b[38;5;28mprint\u001b[39m(\u001b[38;5;124m\"\u001b[39m\u001b[38;5;124mEnter \u001b[39m\u001b[38;5;124m'\u001b[39m\u001b[38;5;124mquit\u001b[39m\u001b[38;5;124m'\u001b[39m\u001b[38;5;124m to quit\u001b[39m\u001b[38;5;124m\"\u001b[39m)\n\u001b[1;32m---> 11\u001b[0m user_input \u001b[38;5;241m=\u001b[39m \u001b[38;5;28;43minput\u001b[39;49m\u001b[43m(\u001b[49m\u001b[43m)\u001b[49m\u001b[38;5;241m.\u001b[39mlower()\n\u001b[0;32m     13\u001b[0m \u001b[38;5;28;01mif\u001b[39;00m user_input \u001b[38;5;241m==\u001b[39m \u001b[38;5;124m\"\u001b[39m\u001b[38;5;124madd\u001b[39m\u001b[38;5;124m\"\u001b[39m:\n\u001b[0;32m     14\u001b[0m     item \u001b[38;5;241m=\u001b[39m \u001b[38;5;28minput\u001b[39m(\u001b[38;5;124m\"\u001b[39m\u001b[38;5;124mEnter item name: \u001b[39m\u001b[38;5;124m\"\u001b[39m)\n",
      "File \u001b[1;32m~\\AppData\\Local\\Programs\\Python\\Python310\\lib\\site-packages\\ipykernel\\kernelbase.py:1202\u001b[0m, in \u001b[0;36mKernel.raw_input\u001b[1;34m(self, prompt)\u001b[0m\n\u001b[0;32m   1200\u001b[0m     msg \u001b[38;5;241m=\u001b[39m \u001b[38;5;124m\"\u001b[39m\u001b[38;5;124mraw_input was called, but this frontend does not support input requests.\u001b[39m\u001b[38;5;124m\"\u001b[39m\n\u001b[0;32m   1201\u001b[0m     \u001b[38;5;28;01mraise\u001b[39;00m StdinNotImplementedError(msg)\n\u001b[1;32m-> 1202\u001b[0m \u001b[38;5;28;01mreturn\u001b[39;00m \u001b[38;5;28;43mself\u001b[39;49m\u001b[38;5;241;43m.\u001b[39;49m\u001b[43m_input_request\u001b[49m\u001b[43m(\u001b[49m\n\u001b[0;32m   1203\u001b[0m \u001b[43m    \u001b[49m\u001b[38;5;28;43mstr\u001b[39;49m\u001b[43m(\u001b[49m\u001b[43mprompt\u001b[49m\u001b[43m)\u001b[49m\u001b[43m,\u001b[49m\n\u001b[0;32m   1204\u001b[0m \u001b[43m    \u001b[49m\u001b[38;5;28;43mself\u001b[39;49m\u001b[38;5;241;43m.\u001b[39;49m\u001b[43m_parent_ident\u001b[49m\u001b[43m[\u001b[49m\u001b[38;5;124;43m\"\u001b[39;49m\u001b[38;5;124;43mshell\u001b[39;49m\u001b[38;5;124;43m\"\u001b[39;49m\u001b[43m]\u001b[49m\u001b[43m,\u001b[49m\n\u001b[0;32m   1205\u001b[0m \u001b[43m    \u001b[49m\u001b[38;5;28;43mself\u001b[39;49m\u001b[38;5;241;43m.\u001b[39;49m\u001b[43mget_parent\u001b[49m\u001b[43m(\u001b[49m\u001b[38;5;124;43m\"\u001b[39;49m\u001b[38;5;124;43mshell\u001b[39;49m\u001b[38;5;124;43m\"\u001b[39;49m\u001b[43m)\u001b[49m\u001b[43m,\u001b[49m\n\u001b[0;32m   1206\u001b[0m \u001b[43m    \u001b[49m\u001b[43mpassword\u001b[49m\u001b[38;5;241;43m=\u001b[39;49m\u001b[38;5;28;43;01mFalse\u001b[39;49;00m\u001b[43m,\u001b[49m\n\u001b[0;32m   1207\u001b[0m \u001b[43m\u001b[49m\u001b[43m)\u001b[49m\n",
      "File \u001b[1;32m~\\AppData\\Local\\Programs\\Python\\Python310\\lib\\site-packages\\ipykernel\\kernelbase.py:1245\u001b[0m, in \u001b[0;36mKernel._input_request\u001b[1;34m(self, prompt, ident, parent, password)\u001b[0m\n\u001b[0;32m   1242\u001b[0m \u001b[38;5;28;01mexcept\u001b[39;00m \u001b[38;5;167;01mKeyboardInterrupt\u001b[39;00m:\n\u001b[0;32m   1243\u001b[0m     \u001b[38;5;66;03m# re-raise KeyboardInterrupt, to truncate traceback\u001b[39;00m\n\u001b[0;32m   1244\u001b[0m     msg \u001b[38;5;241m=\u001b[39m \u001b[38;5;124m\"\u001b[39m\u001b[38;5;124mInterrupted by user\u001b[39m\u001b[38;5;124m\"\u001b[39m\n\u001b[1;32m-> 1245\u001b[0m     \u001b[38;5;28;01mraise\u001b[39;00m \u001b[38;5;167;01mKeyboardInterrupt\u001b[39;00m(msg) \u001b[38;5;28;01mfrom\u001b[39;00m \u001b[38;5;28;01mNone\u001b[39;00m\n\u001b[0;32m   1246\u001b[0m \u001b[38;5;28;01mexcept\u001b[39;00m \u001b[38;5;167;01mException\u001b[39;00m:\n\u001b[0;32m   1247\u001b[0m     \u001b[38;5;28mself\u001b[39m\u001b[38;5;241m.\u001b[39mlog\u001b[38;5;241m.\u001b[39mwarning(\u001b[38;5;124m\"\u001b[39m\u001b[38;5;124mInvalid Message:\u001b[39m\u001b[38;5;124m\"\u001b[39m, exc_info\u001b[38;5;241m=\u001b[39m\u001b[38;5;28;01mTrue\u001b[39;00m)\n",
      "\u001b[1;31mKeyboardInterrupt\u001b[0m: Interrupted by user"
     ]
    }
   ],
   "source": [
    "# key/value pair. Need to take in a key (number the items or quantity?). Value = item or key. If using a numbered structure, than item = value\n",
    "\n",
    "cart = {}\n",
    "count = 0\n",
    "while True:\n",
    "    print(\"Enter 'add' to add item to cart\")\n",
    "    print(\"Enter 'remove' to remove item from cart\")\n",
    "    print(\"Enter 'show' to show items in cart\")\n",
    "    print(\"Enter 'quit' to quit\")\n",
    "    \n",
    "    user_input = input().lower()\n",
    "\n",
    "    if user_input == \"add\":\n",
    "        item = input(\"Enter item name: \")\n",
    "        count = count + 1\n",
    "        cart[count] = item\n",
    "        print(f\"{count}. {item}\")\n",
    "        \n",
    "        print(\"Item added to cart\")\n",
    "    elif user_input == \"remove\":\n",
    "        item = input(\"Enter item name: \")\n",
    "        count = count - 1\n",
    "        cart.remove(item)   # remove not working ..this is list removal not dict\n",
    "        print(\"Item removed from cart\")\n",
    "    elif user_input == \"show\":\n",
    "        if not cart:\n",
    "            print(\"Cart is empty\") \n",
    "        else:\n",
    "            for item in cart:\n",
    "                print(cart) # why when I enter \"show\" does this print 3 times? Printing for each of the (3 example) items perhaps? That's annoying.\n",
    "    elif user_input == \"quit\":\n",
    "        for item in cart:\n",
    "            print(f\"{count}. {item}\")\n",
    "        break"
   ]
  }
 ],
 "metadata": {
  "kernelspec": {
   "display_name": "Python 3 (ipykernel)",
   "language": "python",
   "name": "python3"
  },
  "language_info": {
   "codemirror_mode": {
    "name": "ipython",
    "version": 3
   },
   "file_extension": ".py",
   "mimetype": "text/x-python",
   "name": "python",
   "nbconvert_exporter": "python",
   "pygments_lexer": "ipython3",
   "version": "3.10.11"
  }
 },
 "nbformat": 4,
 "nbformat_minor": 4
}
